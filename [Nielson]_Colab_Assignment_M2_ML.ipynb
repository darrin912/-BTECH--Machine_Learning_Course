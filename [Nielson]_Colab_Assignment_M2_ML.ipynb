{
  "nbformat": 4,
  "nbformat_minor": 0,
  "metadata": {
    "colab": {
      "provenance": [],
      "collapsed_sections": []
    },
    "kernelspec": {
      "name": "python3",
      "display_name": "Python 3"
    },
    "language_info": {
      "name": "python"
    }
  },
  "cells": [
    {
      "cell_type": "markdown",
      "source": [
        "# Module 2: Colab Assignment"
      ],
      "metadata": {
        "id": "t3MCi5oF3fzN"
      }
    },
    {
      "cell_type": "markdown",
      "source": [
        "## Become familiar using a Colab notebook"
      ],
      "metadata": {
        "id": "0IZswT6b4qzy"
      }
    },
    {
      "cell_type": "markdown",
      "source": [
        "**Problem 1: (20 pts)**\n",
        "\n",
        "Import `numpy` as `np` and `pandas` as `pd`\n"
      ],
      "metadata": {
        "id": "fx6lhhlIyjLa"
      }
    },
    {
      "cell_type": "code",
      "execution_count": 4,
      "metadata": {
        "id": "vQSOCmVTwEwC"
      },
      "outputs": [],
      "source": [
        "import numpy as np\n",
        "import pandas as pd\n"
      ]
    },
    {
      "cell_type": "markdown",
      "source": [
        "**Problem 2: (40 pts)**\n",
        "\n",
        "Create a simple DataFrame as follows:\n",
        "\n",
        "\n",
        "1. Create a 5x3 NumPy array\n",
        "2. Create a Python list that contains the column names (three columns in total)\n",
        "3. Create a DataFrame\n",
        "4. Print the DataFrame\n"
      ],
      "metadata": {
        "id": "VN80I_o9zbcs"
      }
    },
    {
      "cell_type": "code",
      "source": [
        "#Step 1\n",
        "\n",
        "fivethree = np.eye(5,3)\n"
      ],
      "metadata": {
        "id": "Y1450SL23I4r"
      },
      "execution_count": 5,
      "outputs": []
    },
    {
      "cell_type": "code",
      "source": [
        "#Step 2\n",
        "\n",
        "lst = ['one','two','three']"
      ],
      "metadata": {
        "id": "VYKUlB214tL5"
      },
      "execution_count": 6,
      "outputs": []
    },
    {
      "cell_type": "code",
      "source": [
        "#Step 3\n",
        "df = pd.DataFrame(data=fivethree, columns=lst)"
      ],
      "metadata": {
        "id": "UY1XdVxE5QxK"
      },
      "execution_count": 7,
      "outputs": []
    },
    {
      "cell_type": "code",
      "source": [
        "#Step 4\n",
        "print(fivethree)\n",
        "print(list)\n",
        "print(df)"
      ],
      "metadata": {
        "id": "KrHGhnoA55w5",
        "colab": {
          "base_uri": "https://localhost:8080/",
          "height": 0
        },
        "outputId": "87e392fb-00fc-49af-e141-c8c18403f86b"
      },
      "execution_count": 8,
      "outputs": [
        {
          "output_type": "stream",
          "name": "stdout",
          "text": [
            "[[1. 0. 0.]\n",
            " [0. 1. 0.]\n",
            " [0. 0. 1.]\n",
            " [0. 0. 0.]\n",
            " [0. 0. 0.]]\n",
            "<class 'list'>\n",
            "   one  two  three\n",
            "0  1.0  0.0    0.0\n",
            "1  0.0  1.0    0.0\n",
            "2  0.0  0.0    1.0\n",
            "3  0.0  0.0    0.0\n",
            "4  0.0  0.0    0.0\n"
          ]
        }
      ]
    },
    {
      "cell_type": "markdown",
      "source": [
        "**Problem 3: (20 pts)**\n",
        "\n",
        "1. Write a function to convert seconds into minutes (output should be an integer number).\n",
        "2. Provide an example using this function and show on the screen the `input` and `output`. For example:\n",
        "\n",
        "`Input: Seconds = 125 `\n",
        "\n",
        "`Output: Minutes = 2`\n"
      ],
      "metadata": {
        "id": "qm876xFp6il9"
      }
    },
    {
      "cell_type": "code",
      "source": [
        "#Step 1\n",
        "def secmin (seconds):\n",
        "  minutes = seconds / 60\n",
        "  return minutes"
      ],
      "metadata": {
        "id": "ocX8f1Ri7qvK"
      },
      "execution_count": 9,
      "outputs": []
    },
    {
      "cell_type": "code",
      "source": [
        "#Step 2\n",
        "input = 120\n",
        "print (input)\n",
        "\n",
        "output=secmin(input)\n",
        "print (output)\n"
      ],
      "metadata": {
        "id": "XXLZuyam_5eA",
        "colab": {
          "base_uri": "https://localhost:8080/",
          "height": 0
        },
        "outputId": "6b9fd93d-1e68-4e2c-8b95-c4b9c2542c1a"
      },
      "execution_count": 10,
      "outputs": [
        {
          "output_type": "stream",
          "name": "stdout",
          "text": [
            "120\n",
            "2.0\n"
          ]
        }
      ]
    },
    {
      "cell_type": "markdown",
      "source": [
        "**Problem 4: (20 pts)**\n",
        "\n",
        "Load the CSV data file as follows:\n",
        "\n",
        "1. Find the data file on Canvas. \n",
        "\n",
        "   Go to `Files` -> `Data Files` -> `SOCR-HeightWeight.csv`\n",
        "\n",
        "2. Upload the CSV file in Colab \n",
        "3. Load the CSV file into a DataFrame named `df`\n",
        "3. Print the DataFrame `df`"
      ],
      "metadata": {
        "id": "sSavgfsvcX2A"
      }
    },
    {
      "cell_type": "code",
      "source": [
        "#Step 3: To run this you need to do step 1 & 2 first.\n",
        "\n",
        "df = pd.read_csv('/content/SOCR-HeightWeight.csv')"
      ],
      "metadata": {
        "id": "yo8TmOXUcWiB"
      },
      "execution_count": 11,
      "outputs": []
    },
    {
      "cell_type": "code",
      "source": [
        "#Step 4\n",
        "\n",
        "print(df)"
      ],
      "metadata": {
        "id": "yFfi4I0tngsb",
        "colab": {
          "base_uri": "https://localhost:8080/",
          "height": 0
        },
        "outputId": "52a4204f-cac3-4275-da49-02bd5854a8be"
      },
      "execution_count": 12,
      "outputs": [
        {
          "output_type": "stream",
          "name": "stdout",
          "text": [
            "       Index  Height(Inches)  Weight(Pounds)\n",
            "0          1        65.78331        112.9925\n",
            "1          2        71.51521        136.4873\n",
            "2          3        69.39874        153.0269\n",
            "3          4        68.21660        142.3354\n",
            "4          5        67.78781        144.2971\n",
            "...      ...             ...             ...\n",
            "24995  24996        69.50215        118.0312\n",
            "24996  24997        64.54826        120.1932\n",
            "24997  24998        64.69855        118.2655\n",
            "24998  24999        67.52918        132.2682\n",
            "24999  25000        68.87761        124.8742\n",
            "\n",
            "[25000 rows x 3 columns]\n"
          ]
        }
      ]
    },
    {
      "cell_type": "code",
      "source": [],
      "metadata": {
        "id": "Ps-jz634n5aY"
      },
      "execution_count": null,
      "outputs": []
    }
  ]
}